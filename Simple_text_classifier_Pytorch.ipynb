{
  "nbformat": 4,
  "nbformat_minor": 0,
  "metadata": {
    "colab": {
      "name": "Simple_text_classifier_Pytorch.ipynb",
      "version": "0.3.2",
      "provenance": [],
      "collapsed_sections": [],
      "include_colab_link": true
    },
    "kernelspec": {
      "name": "python3",
      "display_name": "Python 3"
    },
    "accelerator": "TPU"
  },
  "cells": [
    {
      "cell_type": "markdown",
      "metadata": {
        "id": "view-in-github",
        "colab_type": "text"
      },
      "source": [
        "[View in Colaboratory](https://colab.research.google.com/github/vijayk2000/Text_classifier_pytorch/blob/master/Simple_text_classifier_Pytorch.ipynb)"
      ]
    },
    {
      "metadata": {
        "id": "RdtYPA477cE4",
        "colab_type": "code",
        "colab": {}
      },
      "cell_type": "code",
      "source": [
        "!pip install -U -q PyDrive\n",
        "\n",
        "from pydrive.auth import GoogleAuth\n",
        "from pydrive.drive import GoogleDrive\n",
        "from google.colab import auth\n",
        "from oauth2client.client import GoogleCredentials\n",
        "\n",
        "import os\n",
        "import pandas as pd\n",
        "\n",
        "auth.authenticate_user()\n",
        "gauth = GoogleAuth()\n",
        "gauth.credentials = GoogleCredentials.get_application_default()\n",
        "drive = GoogleDrive(gauth)"
      ],
      "execution_count": 0,
      "outputs": []
    },
    {
      "metadata": {
        "id": "VparNNxr8Keg",
        "colab_type": "code",
        "outputId": "67c6a3f2-6576-4f60-834b-258644dc968d",
        "colab": {
          "base_uri": "https://localhost:8080/",
          "height": 34
        }
      },
      "cell_type": "code",
      "source": [
        "listed = drive.ListFile({'q': \"title contains 'data.zip' and '1cVWSXk-Swjfyx86Km8IciaDqHsJbEOBk' in parents\"}).GetList()\n",
        "for file in listed:\n",
        "  print('title {}, id {}'.format(file['title'], file['id']))\n",
        "  \n"
      ],
      "execution_count": 2,
      "outputs": [
        {
          "output_type": "stream",
          "text": [
            "title data.zip, id 1MQw3SfWZpFL-LhUjdSQ7nGklXMPly1bq\n"
          ],
          "name": "stdout"
        }
      ]
    },
    {
      "metadata": {
        "id": "L9LNPue4BVR3",
        "colab_type": "code",
        "colab": {}
      },
      "cell_type": "code",
      "source": [
        "download_path = os.path.expanduser('/data')\n",
        "try:\n",
        "  os.makedirs(download_path)\n",
        "except FileExistsError:\n",
        "  pass\n",
        "\n",
        "output_file = os.path.join(download_path, 'data.zip')\n",
        "\n",
        "temp_file = drive.CreateFile({'id': '1MQw3SfWZpFL-LhUjdSQ7nGklXMPly1bq'})\n",
        "temp_file.GetContentFile(output_file)"
      ],
      "execution_count": 0,
      "outputs": []
    },
    {
      "metadata": {
        "id": "aVR4NGlABgXM",
        "colab_type": "code",
        "outputId": "a11852cc-4fe2-4369-aca5-eb5bf5cbc053",
        "colab": {
          "base_uri": "https://localhost:8080/",
          "height": 34
        }
      },
      "cell_type": "code",
      "source": [
        "cd /data"
      ],
      "execution_count": 4,
      "outputs": [
        {
          "output_type": "stream",
          "text": [
            "/data\n"
          ],
          "name": "stdout"
        }
      ]
    },
    {
      "metadata": {
        "id": "nTbogLrbBkcw",
        "colab_type": "code",
        "outputId": "d852a927-49dd-4ea6-ab6e-26dce04e6ef0",
        "colab": {
          "base_uri": "https://localhost:8080/",
          "height": 399
        }
      },
      "cell_type": "code",
      "source": [
        "!unzip data.zip"
      ],
      "execution_count": 5,
      "outputs": [
        {
          "output_type": "stream",
          "text": [
            "Archive:  data.zip\n",
            "   creating: data/\n",
            "  inflating: data/eng-fra.txt        \n",
            "   creating: data/names/\n",
            "  inflating: data/names/Arabic.txt   \n",
            "  inflating: data/names/Chinese.txt  \n",
            "  inflating: data/names/Czech.txt    \n",
            "  inflating: data/names/Dutch.txt    \n",
            "  inflating: data/names/English.txt  \n",
            "  inflating: data/names/French.txt   \n",
            "  inflating: data/names/German.txt   \n",
            "  inflating: data/names/Greek.txt    \n",
            "  inflating: data/names/Irish.txt    \n",
            "  inflating: data/names/Italian.txt  \n",
            "  inflating: data/names/Japanese.txt  \n",
            "  inflating: data/names/Korean.txt   \n",
            "  inflating: data/names/Polish.txt   \n",
            "  inflating: data/names/Portuguese.txt  \n",
            "  inflating: data/names/Russian.txt  \n",
            "  inflating: data/names/Scottish.txt  \n",
            "  inflating: data/names/Spanish.txt  \n",
            "  inflating: data/names/Vietnamese.txt  \n"
          ],
          "name": "stdout"
        }
      ]
    },
    {
      "metadata": {
        "id": "03j40tIFC0SU",
        "colab_type": "text"
      },
      "cell_type": "markdown",
      "source": [
        "Source: https://pytorch.org/tutorials/intermediate/char_rnn_classification_tutorial.html\n",
        "\n",
        "This code is about recognizing the language.  Each file contains one name per line.  Since we need to remove diacritics, we are converting unicode string to ASCII"
      ]
    },
    {
      "metadata": {
        "id": "rAfPTVW8C32y",
        "colab_type": "code",
        "colab": {}
      },
      "cell_type": "code",
      "source": [
        "from __future__ import unicode_literals, print_function, division\n",
        "from io import open\n",
        "import glob\n",
        "import os\n",
        "\n",
        "def FindFiles(path): return glob.glob(path)\n"
      ],
      "execution_count": 0,
      "outputs": []
    },
    {
      "metadata": {
        "id": "SAQ-8f-iF0U7",
        "colab_type": "code",
        "outputId": "9eabf76f-72de-4584-ca6e-dab0ab72267d",
        "colab": {
          "base_uri": "https://localhost:8080/",
          "height": 34
        }
      },
      "cell_type": "code",
      "source": [
        "!pwd"
      ],
      "execution_count": 7,
      "outputs": [
        {
          "output_type": "stream",
          "text": [
            "/data\n"
          ],
          "name": "stdout"
        }
      ]
    },
    {
      "metadata": {
        "id": "NqNTkFp6Ffl2",
        "colab_type": "code",
        "outputId": "3568d4b1-dca1-4439-b5d7-73112e1f81c0",
        "colab": {
          "base_uri": "https://localhost:8080/",
          "height": 54
        }
      },
      "cell_type": "code",
      "source": [
        "print(FindFiles('data/names/*.txt'))"
      ],
      "execution_count": 8,
      "outputs": [
        {
          "output_type": "stream",
          "text": [
            "['data/names/Irish.txt', 'data/names/Italian.txt', 'data/names/Greek.txt', 'data/names/English.txt', 'data/names/Arabic.txt', 'data/names/Korean.txt', 'data/names/Scottish.txt', 'data/names/Portuguese.txt', 'data/names/Spanish.txt', 'data/names/Dutch.txt', 'data/names/French.txt', 'data/names/Chinese.txt', 'data/names/Czech.txt', 'data/names/Vietnamese.txt', 'data/names/Japanese.txt', 'data/names/Russian.txt', 'data/names/German.txt', 'data/names/Polish.txt']\n"
          ],
          "name": "stdout"
        }
      ]
    },
    {
      "metadata": {
        "id": "CfRTfreuHM6I",
        "colab_type": "code",
        "colab": {}
      },
      "cell_type": "code",
      "source": [
        "import unicodedata\n",
        "import string"
      ],
      "execution_count": 0,
      "outputs": []
    },
    {
      "metadata": {
        "id": "uaoEKOpsKzE-",
        "colab_type": "code",
        "colab": {}
      },
      "cell_type": "code",
      "source": [
        "all_letters=string.ascii_letters + \".,;\""
      ],
      "execution_count": 0,
      "outputs": []
    },
    {
      "metadata": {
        "id": "4M3M79NILUAi",
        "colab_type": "code",
        "outputId": "cac17fed-b42e-4002-aab5-6237ee4ae083",
        "colab": {
          "base_uri": "https://localhost:8080/",
          "height": 34
        }
      },
      "cell_type": "code",
      "source": [
        "print(all_letters)\n",
        "n_letters=len(all_letters)"
      ],
      "execution_count": 11,
      "outputs": [
        {
          "output_type": "stream",
          "text": [
            "abcdefghijklmnopqrstuvwxyzABCDEFGHIJKLMNOPQRSTUVWXYZ.,;\n"
          ],
          "name": "stdout"
        }
      ]
    },
    {
      "metadata": {
        "id": "dTJd3a5gSIpr",
        "colab_type": "text"
      },
      "cell_type": "markdown",
      "source": [
        ""
      ]
    },
    {
      "metadata": {
        "id": "ULbvHcGJSJkm",
        "colab_type": "code",
        "outputId": "e954b6f3-0bdb-4079-f070-09d9f8401de6",
        "colab": {
          "base_uri": "https://localhost:8080/",
          "height": 34
        }
      },
      "cell_type": "code",
      "source": [
        "print(n_letters)"
      ],
      "execution_count": 12,
      "outputs": [
        {
          "output_type": "stream",
          "text": [
            "55\n"
          ],
          "name": "stdout"
        }
      ]
    },
    {
      "metadata": {
        "id": "sFVNNv1nT3HM",
        "colab_type": "code",
        "colab": {}
      },
      "cell_type": "code",
      "source": [
        "def unicodetoAscii(s):\n",
        "  return ''.join(\n",
        "  c for c in unicodedata.normalize('NFD', s)\n",
        "  if unicodedata.category(c)!='Mn'\n",
        "  and c in all_letters\n",
        "  )"
      ],
      "execution_count": 0,
      "outputs": []
    },
    {
      "metadata": {
        "id": "m2HLwng3W30j",
        "colab_type": "code",
        "outputId": "7045b06f-6e47-4561-b801-f2b452863d21",
        "colab": {
          "base_uri": "https://localhost:8080/",
          "height": 34
        }
      },
      "cell_type": "code",
      "source": [
        "print(unicodetoAscii('Ślusàrski'))"
      ],
      "execution_count": 14,
      "outputs": [
        {
          "output_type": "stream",
          "text": [
            "Slusarski\n"
          ],
          "name": "stdout"
        }
      ]
    },
    {
      "metadata": {
        "id": "ORMncUeObuXk",
        "colab_type": "code",
        "colab": {}
      },
      "cell_type": "code",
      "source": [
        "category_lines={}\n",
        "all_categories=[]\n",
        "\n",
        "def readLines(filename):\n",
        "  lines=open(filename, encoding='utf-8').read().strip().split('\\n')\n",
        "  return [unicodetoAscii(line) for line in lines]\n",
        "\n",
        "for filename in FindFiles('data/names/*.txt'):\n",
        "  category=os.path.splitext(os.path.basename(filename))[0]\n",
        "  all_categories.append(category)\n",
        "  lines=readLines(filename)\n",
        "  category_lines[category]=lines\n",
        "  "
      ],
      "execution_count": 0,
      "outputs": []
    },
    {
      "metadata": {
        "id": "O6BkrEFQmqiP",
        "colab_type": "code",
        "colab": {}
      },
      "cell_type": "code",
      "source": [
        "n_categories=len(all_categories)"
      ],
      "execution_count": 0,
      "outputs": []
    },
    {
      "metadata": {
        "id": "R8ElSBwTwD0h",
        "colab_type": "code",
        "outputId": "e88641bb-b9a2-47c6-95e2-014ab9de3248",
        "colab": {
          "base_uri": "https://localhost:8080/",
          "height": 34
        }
      },
      "cell_type": "code",
      "source": [
        "print(category_lines['Arabic'][:5])"
      ],
      "execution_count": 17,
      "outputs": [
        {
          "output_type": "stream",
          "text": [
            "['Khoury', 'Nahas', 'Daher', 'Gerges', 'Nazari']\n"
          ],
          "name": "stdout"
        }
      ]
    },
    {
      "metadata": {
        "id": "B30r4HlJBNMl",
        "colab_type": "code",
        "colab": {
          "base_uri": "https://localhost:8080/",
          "height": 141
        },
        "outputId": "c2f5dd08-80a2-413e-d0aa-2ce587854d39"
      },
      "cell_type": "code",
      "source": [
        "!pip install torch"
      ],
      "execution_count": 18,
      "outputs": [
        {
          "output_type": "stream",
          "text": [
            "Collecting torch\n",
            "\u001b[?25l  Downloading https://files.pythonhosted.org/packages/49/0e/e382bcf1a6ae8225f50b99cc26effa2d4cc6d66975ccf3fa9590efcbedce/torch-0.4.1-cp36-cp36m-manylinux1_x86_64.whl (519.5MB)\n",
            "\u001b[K    100% |████████████████████████████████| 519.5MB 30kB/s \n",
            "tcmalloc: large alloc 1073750016 bytes == 0x585fe000 @  0x7f05122a82a4 0x594e17 0x626104 0x51190a 0x4f5277 0x510c78 0x5119bd 0x4f5277 0x4f3338 0x510fb0 0x5119bd 0x4f5277 0x4f3338 0x510fb0 0x5119bd 0x4f5277 0x4f3338 0x510fb0 0x5119bd 0x4f6070 0x510c78 0x5119bd 0x4f5277 0x4f3338 0x510fb0 0x5119bd 0x4f6070 0x4f3338 0x510fb0 0x5119bd 0x4f6070\n",
            "\u001b[?25hInstalling collected packages: torch\n",
            "Successfully installed torch-0.4.1\n"
          ],
          "name": "stdout"
        }
      ]
    },
    {
      "metadata": {
        "id": "J1e30-QKyLkM",
        "colab_type": "text"
      },
      "cell_type": "markdown",
      "source": [
        "Turning names into Tensors"
      ]
    },
    {
      "metadata": {
        "id": "7fwNbZ3iyTCu",
        "colab_type": "code",
        "colab": {}
      },
      "cell_type": "code",
      "source": [
        "import torch\n",
        "\n",
        "#Names will have to be converted into Tensors.  To do this, we need to create it using one-hot encoding\n",
        "\n",
        "def letterToIndex(letter):\n",
        "  return all_letters.find(letter)   #'all_letters' gives the indexes of alphabets\n"
      ],
      "execution_count": 0,
      "outputs": []
    },
    {
      "metadata": {
        "id": "YgMa3meo1CWr",
        "colab_type": "code",
        "colab": {}
      },
      "cell_type": "code",
      "source": [
        "# Just for demonstration, turn a letter into a <1 x n_letters> Tensor\n",
        "def lettertoTensor(letter):\n",
        "  tensor=torch.zeros(1, n_letters)\n",
        "  tensor[0][letterToIndex(letter)]=1\n",
        "  return tensor"
      ],
      "execution_count": 0,
      "outputs": []
    },
    {
      "metadata": {
        "id": "H6RW2V3CXNfx",
        "colab_type": "code",
        "colab": {}
      },
      "cell_type": "code",
      "source": [
        "def linetoTensor(line):\n",
        "  tensor=torch.zeros(len(line), 1, n_letters) #To make a word we join a bunch of those into a 2D matrix <line_length x 1 x n_letters>.\n",
        "\n",
        "                                              #That extra 1 dimension is because PyTorch assumes everything is in batches -\n",
        "                                              #we’re just using a batch size of 1 here.\n",
        "  \n",
        "  for li, letter in enumerate(line):\n",
        "    tensor[li][0][letterToIndex(letter)]=1\n",
        "  return tensor "
      ],
      "execution_count": 0,
      "outputs": []
    },
    {
      "metadata": {
        "id": "G45LnwtiY07P",
        "colab_type": "code",
        "colab": {
          "base_uri": "https://localhost:8080/",
          "height": 34
        },
        "outputId": "ccbb571b-00eb-41d1-a0e1-26c7d90813cf"
      },
      "cell_type": "code",
      "source": [
        "print(linetoTensor('jones').size())"
      ],
      "execution_count": 22,
      "outputs": [
        {
          "output_type": "stream",
          "text": [
            "torch.Size([5, 1, 55])\n"
          ],
          "name": "stdout"
        }
      ]
    },
    {
      "metadata": {
        "id": "zcxgZv62qi0-",
        "colab_type": "text"
      },
      "cell_type": "markdown",
      "source": [
        "Creating the nn network"
      ]
    },
    {
      "metadata": {
        "id": "5DAoK2o7qmoi",
        "colab_type": "code",
        "colab": {}
      },
      "cell_type": "code",
      "source": [
        "import torch.nn as nn"
      ],
      "execution_count": 0,
      "outputs": []
    },
    {
      "metadata": {
        "id": "Wfvrg8ZJqtjU",
        "colab_type": "code",
        "colab": {}
      },
      "cell_type": "code",
      "source": [
        "class RNN(nn.Module):\n",
        "  def __init__(self, input_size, hidden_size, output_size):\n",
        "    super(RNN, self).__init__()\n",
        "    \n",
        "    self.hidden_size=hidden_size\n",
        "    self.i2h=nn.Linear(input_size+hidden_size, hidden_size)\n",
        "    self.i2o=nn.Linear(input_size+hidden_size, output_size)\n",
        "    self.softmax=nn.LogSoftmax(dim=1)\n",
        "    \n",
        "  def forward(self, input, hidden):\n",
        "    combined=torch.cat((input, hidden),1)\n",
        "    hidden=self.i2h(combined)\n",
        "    output=self.i2o(combined)\n",
        "    output=self.softmax(output)\n",
        "    return output, hidden\n",
        "  \n",
        "  def initHidden(self):\n",
        "    return torch.zeros(1, self.hidden_size)\n",
        "  \n",
        "n_hidden=128\n",
        "rnn=RNN(n_letters, n_hidden, n_categories)\n",
        "\n",
        "  \n",
        "  \n",
        "  "
      ],
      "execution_count": 0,
      "outputs": []
    },
    {
      "metadata": {
        "id": "o3BnAYXhC0Hy",
        "colab_type": "code",
        "colab": {
          "base_uri": "https://localhost:8080/",
          "height": 69
        },
        "outputId": "8f49ea4b-017b-47db-c682-258d51e0c9ae"
      },
      "cell_type": "code",
      "source": [
        "input=linetoTensor('abdul')\n",
        "hidden=torch.zeros(1, n_hidden)\n",
        "output, next_hidden=rnn(input[0], hidden)\n",
        "print(output)"
      ],
      "execution_count": 25,
      "outputs": [
        {
          "output_type": "stream",
          "text": [
            "tensor([[-2.9798, -2.9093, -2.8761, -2.9012, -2.9174, -2.9116, -2.9773, -2.9116,\n",
            "         -2.9152, -2.8947, -2.8174, -2.9514, -2.8168, -2.8084, -2.8590, -2.8840,\n",
            "         -2.8322, -2.8854]], grad_fn=<LogSoftmaxBackward>)\n"
          ],
          "name": "stdout"
        }
      ]
    },
    {
      "metadata": {
        "id": "_P24Y7KTHeVj",
        "colab_type": "text"
      },
      "cell_type": "markdown",
      "source": [
        "From the above code, it picks the topmost likelihood of each category"
      ]
    },
    {
      "metadata": {
        "id": "m_nIArREDRiy",
        "colab_type": "code",
        "colab": {
          "base_uri": "https://localhost:8080/",
          "height": 34
        },
        "outputId": "3babab1b-a365-43a1-e575-ae41178ad927"
      },
      "cell_type": "code",
      "source": [
        "def categoryFromOutput(output):\n",
        "  top_n, top_i=output.topk(1)\n",
        "  category_i=top_i[0].item()\n",
        "  return all_categories[category_i], category_i   #returns the topmost category\n",
        "\n",
        "print(categoryFromOutput(output))\n",
        "  "
      ],
      "execution_count": 26,
      "outputs": [
        {
          "output_type": "stream",
          "text": [
            "('Vietnamese', 13)\n"
          ],
          "name": "stdout"
        }
      ]
    },
    {
      "metadata": {
        "id": "Qg8tmuQRSL4S",
        "colab_type": "text"
      },
      "cell_type": "markdown",
      "source": [
        "A quick way to produce a training example"
      ]
    },
    {
      "metadata": {
        "id": "C3cNDSFRSIw6",
        "colab_type": "code",
        "colab": {
          "base_uri": "https://localhost:8080/",
          "height": 191
        },
        "outputId": "6591d4f7-aa9a-4c17-d604-96c004ecbb65"
      },
      "cell_type": "code",
      "source": [
        "import random\n",
        "\n",
        "\n",
        "def randomChoice(l):\n",
        "    return l[random.randint(0, len(l) - 1)]\n",
        "\n",
        "def randomTrainingExample():\n",
        "    category = randomChoice(all_categories)\n",
        "    line = randomChoice(category_lines[category])\n",
        "    category_tensor = torch.tensor([all_categories.index(category)], dtype=torch.long)\n",
        "    line_tensor = linetoTensor(line)\n",
        "    return category, line, category_tensor, line_tensor\n",
        "\n",
        "for i in range(10):\n",
        "    category, line, category_tensor, line_tensor = randomTrainingExample()\n",
        "    print('category =', category, '/ line =', line)"
      ],
      "execution_count": 27,
      "outputs": [
        {
          "output_type": "stream",
          "text": [
            "category = English / line = Orritt\n",
            "category = Greek / line = Eliopoulos\n",
            "category = Italian / line = Abrami\n",
            "category = Chinese / line = See\n",
            "category = Portuguese / line = Moreno\n",
            "category = Scottish / line = Hill\n",
            "category = French / line = Blanchett\n",
            "category = Polish / line = Rusnak\n",
            "category = Korean / line = Yun\n",
            "category = German / line = Wegner\n"
          ],
          "name": "stdout"
        }
      ]
    },
    {
      "metadata": {
        "id": "XfnRnaKPYNZQ",
        "colab_type": "code",
        "colab": {}
      },
      "cell_type": "code",
      "source": [
        "criterion=nn.NLLLoss()"
      ],
      "execution_count": 0,
      "outputs": []
    },
    {
      "metadata": {
        "id": "38xBN57eZUef",
        "colab_type": "code",
        "colab": {}
      },
      "cell_type": "code",
      "source": [
        "learning_rate = 0.005 # If you set this too high, it might explode. If too low, it might not learn\n",
        "\n",
        "def train(category_tensor, line_tensor):\n",
        "    hidden = rnn.initHidden()\n",
        "\n",
        "    rnn.zero_grad()\n",
        "\n",
        "    for i in range(line_tensor.size()[0]):\n",
        "        output, hidden = rnn(line_tensor[i], hidden)\n",
        "\n",
        "    loss = criterion(output, category_tensor)\n",
        "    loss.backward()\n",
        "\n",
        "    # Add parameters' gradients to their values, multiplied by learning rate\n",
        "    for p in rnn.parameters():\n",
        "        p.data.add_(-learning_rate, p.grad.data)\n",
        "\n",
        "    return output, loss.item()"
      ],
      "execution_count": 0,
      "outputs": []
    },
    {
      "metadata": {
        "id": "Gfu0jj63bY7Y",
        "colab_type": "code",
        "colab": {
          "base_uri": "https://localhost:8080/",
          "height": 364
        },
        "outputId": "0aa4dbc2-acb6-48d0-c58a-3dcf0d0b197e"
      },
      "cell_type": "code",
      "source": [
        "import time\n",
        "import math\n",
        "\n",
        "n_iters = 100000\n",
        "print_every = 5000\n",
        "plot_every = 1000\n",
        "\n",
        "\n",
        "\n",
        "# Keep track of losses for plotting\n",
        "current_loss = 0\n",
        "all_losses = []\n",
        "\n",
        "def timeSince(since):\n",
        "    now = time.time()\n",
        "    s = now - since\n",
        "    m = math.floor(s / 60)\n",
        "    s -= m * 60\n",
        "    return '%dm %ds' % (m, s)\n",
        "\n",
        "start = time.time()\n",
        "\n",
        "for iter in range(1, n_iters + 1):\n",
        "    category, line, category_tensor, line_tensor = randomTrainingExample()\n",
        "    output, loss = train(category_tensor, line_tensor)\n",
        "    current_loss += loss\n",
        "\n",
        "    # Print iter number, loss, name and guess\n",
        "    if iter % print_every == 0:\n",
        "        guess, guess_i = categoryFromOutput(output)\n",
        "        correct = '✓' if guess == category else '✗ (%s)' % category\n",
        "        print('%d %d%% (%s) %.4f %s / %s %s' % (iter, iter / n_iters * 100, timeSince(start), loss, line, guess, correct))\n",
        "\n",
        "    # Add current loss avg to list of losses\n",
        "    if iter % plot_every == 0:\n",
        "        all_losses.append(current_loss / plot_every)\n",
        "        current_loss = 0"
      ],
      "execution_count": 30,
      "outputs": [
        {
          "output_type": "stream",
          "text": [
            "5000 5% (0m 6s) 2.1081 Chu / Korean ✗ (Vietnamese)\n",
            "10000 10% (0m 12s) 3.0640 Mata / Japanese ✗ (Portuguese)\n",
            "15000 15% (0m 19s) 1.4106 Roosevelt / Dutch ✓\n",
            "20000 20% (0m 25s) 3.0445 Peary / Portuguese ✗ (Czech)\n",
            "25000 25% (0m 32s) 1.3049 Ra / Korean ✓\n",
            "30000 30% (0m 38s) 1.8196 Jeong / Korean ✓\n",
            "35000 35% (0m 45s) 0.3506 Ozaki / Japanese ✓\n",
            "40000 40% (0m 51s) 1.2388 Avana / Spanish ✓\n",
            "45000 45% (0m 58s) 2.2800 Anscombe / French ✗ (English)\n",
            "50000 50% (1m 4s) 0.2766 Hwang / Korean ✓\n",
            "55000 55% (1m 11s) 1.2022 Moon / Korean ✓\n",
            "60000 60% (1m 17s) 0.6780 Buonarroti / Italian ✓\n",
            "65000 65% (1m 23s) 0.0916 Kazuyoshi / Japanese ✓\n",
            "70000 70% (1m 30s) 2.7241 Bonfils / Portuguese ✗ (French)\n",
            "75000 75% (1m 36s) 2.5471 Fakhoury / English ✗ (Arabic)\n",
            "80000 80% (1m 43s) 2.1690 Gray / Portuguese ✗ (Scottish)\n",
            "85000 85% (1m 49s) 1.3877 Dagher / Arabic ✓\n",
            "90000 90% (1m 56s) 0.2140 Ying / Chinese ✓\n",
            "95000 95% (2m 2s) 0.6735 Schnur / German ✓\n",
            "100000 100% (2m 9s) 0.1266 OLoughlin / Irish ✓\n"
          ],
          "name": "stdout"
        }
      ]
    },
    {
      "metadata": {
        "id": "SpjsBIEgdImO",
        "colab_type": "code",
        "colab": {
          "base_uri": "https://localhost:8080/",
          "height": 364
        },
        "outputId": "40f25fa3-f39b-4eda-8492-90a79d4bb96d"
      },
      "cell_type": "code",
      "source": [
        "\n",
        "\n",
        "import matplotlib.pyplot as plt\n",
        "import matplotlib.ticker as ticker\n",
        "\n",
        "plt.figure()\n",
        "plt.plot(all_losses)\n",
        "\n"
      ],
      "execution_count": 31,
      "outputs": [
        {
          "output_type": "execute_result",
          "data": {
            "text/plain": [
              "[<matplotlib.lines.Line2D at 0x7f46e3b58c18>]"
            ]
          },
          "metadata": {
            "tags": []
          },
          "execution_count": 31
        },
        {
          "output_type": "display_data",
          "data": {
            "image/png": "[encoded data removed]",
            "text/plain": [
              "<matplotlib.figure.Figure at 0x7f46e4390438>"
            ]
          },
          "metadata": {
            "tags": []
          }
        }
      ]
    },
    {
      "metadata": {
        "id": "TpvgBWgPEKrE",
        "colab_type": "text"
      },
      "cell_type": "markdown",
      "source": [
        "We will create a confusion matrix to determine the accuracy for different categories"
      ]
    },
    {
      "metadata": {
        "id": "WOEF1RY7D28Q",
        "colab_type": "code",
        "colab": {
          "base_uri": "https://localhost:8080/",
          "height": 396
        },
        "outputId": "8633220b-1d0e-4970-cdde-7ee1d9e0932a"
      },
      "cell_type": "code",
      "source": [
        "confusion=torch.zeros(n_categories, n_categories)\n",
        "n_confusion=10000\n",
        "\n",
        "def evaluate(line_tensor):\n",
        "  hidden=rnn.initHidden()\n",
        "  \n",
        "  for i in range(line_tensor.size()[0]):\n",
        "    output, hidden=rnn(line_tensor[i], hidden)\n",
        "    \n",
        "  return output\n",
        "\n",
        "for i in range(n_confusion):\n",
        "  category, line, category_tensor, line_tensor=randomTrainingExample()\n",
        "  output=evaluate(line_tensor)\n",
        "  guess, guess_i=categoryFromOutput(output)\n",
        "  category_i=all_categories.index(category)\n",
        "  confusion[category_i][guess_i]+=1\n",
        "  \n",
        "for i in range(n_categories):\n",
        "  confusion[i]=confusion[i]/confusion[i].sum()\n",
        "  \n",
        "fig=plt.figure()\n",
        "ax=fig.add_subplot(111)\n",
        "cax=ax.matshow(confusion.numpy())\n",
        "fig.colorbar(cax)\n",
        "\n",
        "# Set up axes\n",
        "ax.set_xticklabels([''] + all_categories, rotation=90)\n",
        "ax.set_yticklabels([''] + all_categories)\n",
        "\n",
        "# Force label at every tick\n",
        "ax.xaxis.set_major_locator(ticker.MultipleLocator(1))\n",
        "ax.yaxis.set_major_locator(ticker.MultipleLocator(1))\n",
        "\n",
        "# sphinx_gallery_thumbnail_number = 2\n",
        "plt.show()\n",
        "\n",
        "\n"
      ],
      "execution_count": 41,
      "outputs": [
        {
          "output_type": "display_data",
          "data": {
            "image/png": "[encoded data removed]",
            "text/plain": [
              "<matplotlib.figure.Figure at 0x7f46e11e1b00>"
            ]
          },
          "metadata": {
            "tags": []
          }
        }
      ]
    },
    {
      "metadata": {
        "id": "-82yIvTEPnMm",
        "colab_type": "code",
        "colab": {}
      },
      "cell_type": "code",
      "source": [
        "fig.colorbar?"
      ],
      "execution_count": 0,
      "outputs": []
    },
    {
      "metadata": {
        "id": "lt6rql5oOP_d",
        "colab_type": "text"
      },
      "cell_type": "markdown",
      "source": [
        "Predicting on user input"
      ]
    },
    {
      "metadata": {
        "id": "Ws7Nyd0VOO5K",
        "colab_type": "code",
        "colab": {}
      },
      "cell_type": "code",
      "source": [
        "def predict(input_line, n_predictions=3):\n",
        "  print('\\n> %s' % input_line)\n",
        "  with torch.no_grad():\n",
        "        output = evaluate(linetoTensor(input_line))\n",
        "\n",
        "        # Get top N categories\n",
        "        topv, topi = output.topk(n_predictions, 1, True)\n",
        "        predictions = []\n",
        "\n",
        "        for i in range(n_predictions):\n",
        "            value = topv[0][i].item()\n",
        "            category_index = topi[0][i].item()\n",
        "            print('(%.2f) %s' % (value, all_categories[category_index]))\n",
        "            predictions.append([value, all_categories[category_index]])\n",
        "  "
      ],
      "execution_count": 0,
      "outputs": []
    },
    {
      "metadata": {
        "id": "3kCJhpXIOh1z",
        "colab_type": "code",
        "colab": {
          "base_uri": "https://localhost:8080/",
          "height": 104
        },
        "outputId": "576df874-5db5-4994-ece1-08157bbe60ba"
      },
      "cell_type": "code",
      "source": [
        "predict('vijay')"
      ],
      "execution_count": 57,
      "outputs": [
        {
          "output_type": "stream",
          "text": [
            "\n",
            "> vijay\n",
            "(-0.64) Czech\n",
            "(-2.24) English\n",
            "(-2.29) Russian\n"
          ],
          "name": "stdout"
        }
      ]
    }
  ]
}